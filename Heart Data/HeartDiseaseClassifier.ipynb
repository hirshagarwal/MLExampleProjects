{
 "cells": [
  {
   "cell_type": "code",
   "execution_count": 1,
   "metadata": {
    "collapsed": true
   },
   "outputs": [],
   "source": [
    "# Setup Imports\n",
    "import numpy as np\n",
    "from matplotlib import pyplot as plt\n",
    "import csv"
   ]
  },
  {
   "cell_type": "code",
   "execution_count": 20,
   "metadata": {
    "collapsed": true
   },
   "outputs": [],
   "source": [
    "# Import Data\n",
    "import_data = list()\n",
    "rows = 0\n",
    "with open('ClevelandClinicData.csv', 'r') as csvfile:\n",
    "    reader = csv.reader(csvfile, delimiter=',', quotechar=\"|\")\n",
    "    for row in reader:\n",
    "        import_data.append(row)\n",
    "        rows += 1"
   ]
  },
  {
   "cell_type": "code",
   "execution_count": 29,
   "metadata": {},
   "outputs": [],
   "source": [
    "# Clean Data\n",
    "row_size = len(import_data[0])\n",
    "data = np.zeros((rows, row_size))\n",
    "counter = 0\n",
    "for row in import_data:\n",
    "    for i in range(len(row)):\n",
    "        if row[i] == '?':\n",
    "            row[i] = 0\n",
    "        data[counter, i] = row[i]\n",
    "    counter += 1\n",
    "data = data.astype(np.float)"
   ]
  },
  {
   "cell_type": "code",
   "execution_count": 39,
   "metadata": {},
   "outputs": [],
   "source": [
    "# Objective - P(HeartDisease|x1, x2, x3, ...)\n",
    "\n",
    "# Calculate P(HeartDisease)\n",
    "num = 0\n",
    "hd = 0\n",
    "p_heartDisease = 0\n",
    "for row in data:\n",
    "    if(row[row.shape[0]-1]) > 0:\n",
    "        hd += 1\n",
    "    num += 1\n",
    "p_heartDisease = hd/num"
   ]
  },
  {
   "cell_type": "code",
   "execution_count": null,
   "metadata": {
    "collapsed": true
   },
   "outputs": [],
   "source": []
  }
 ],
 "metadata": {
  "kernelspec": {
   "display_name": "Python 3",
   "language": "python",
   "name": "python3"
  },
  "language_info": {
   "codemirror_mode": {
    "name": "ipython",
    "version": 3
   },
   "file_extension": ".py",
   "mimetype": "text/x-python",
   "name": "python",
   "nbconvert_exporter": "python",
   "pygments_lexer": "ipython3",
   "version": "3.5.3"
  }
 },
 "nbformat": 4,
 "nbformat_minor": 2
}
