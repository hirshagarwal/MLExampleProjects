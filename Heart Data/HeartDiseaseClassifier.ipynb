{
 "cells": [
  {
   "cell_type": "code",
   "execution_count": 1,
   "metadata": {
    "collapsed": true
   },
   "outputs": [],
   "source": [
    "\"\"\" Setup Imports \"\"\"\n",
    "    # numpy for matrix operations\n",
    "import numpy as np\n",
    "    # matplotlib for visualization\n",
    "from matplotlib import pyplot as plt\n",
    "    # csv for reading the input data\n",
    "import csv"
   ]
  },
  {
   "cell_type": "code",
   "execution_count": 37,
   "metadata": {
    "collapsed": true
   },
   "outputs": [],
   "source": [
    "\"\"\" Import Data \"\"\"\n",
    "    # Create a list to hold each row of data\n",
    "import_data = list()\n",
    "    # Create a counter for the number of rows\n",
    "rows = 0\n",
    "\n",
    "# Import the CSV data\n",
    "with open('ClevelandClinicData.csv', 'r') as csvfile:\n",
    "    reader = csv.reader(csvfile, delimiter=',', quotechar=\"|\")\n",
    "    for row in reader:\n",
    "        import_data.append(row)\n",
    "        rows += 1"
   ]
  },
  {
   "cell_type": "code",
   "execution_count": 38,
   "metadata": {
    "collapsed": true
   },
   "outputs": [],
   "source": [
    "# --- Deprocated ---\n",
    "# Clean Data\n",
    "row_size = len(import_data[0])\n",
    "data = np.zeros((rows, row_size))\n",
    "counter = 0\n",
    "for row in import_data:\n",
    "    for i in range(len(row)):\n",
    "        # Set anything with a question mark to 0\n",
    "        if row[i] == '?':\n",
    "            row[i] = 0\n",
    "        data[counter, i] = row[i]\n",
    "    counter += 1\n",
    "# Convert the string data to floats\n",
    "data = data.astype(np.float)"
   ]
  },
  {
   "cell_type": "code",
   "execution_count": 40,
   "metadata": {
    "collapsed": true
   },
   "outputs": [],
   "source": [
    "\"\"\" Clean Data \"\"\"\n",
    "# Create variable for size of each row\n",
    "row_size = len(import_data[0])\n",
    "# Create empty numpy matrix to hold the new data\n",
    "data = np.zeros((rows, row_size))\n",
    "# Create a counter to remember how many rows have been added\n",
    "counter = 0\n",
    "\n",
    "# For loop - to iterate over each row in dataset\n",
    "for row in import_data:\n",
    "    # Boolean to mark if data is bad\n",
    "    data_good = True\n",
    "    # For loop - iterate over each item in row\n",
    "    for i in range(row_size):\n",
    "        # If statement - check if item is ?\n",
    "        if row[i] == '?':\n",
    "            data_good = False\n",
    "    # If statement - if the data is fine add it to our empty numpy matrix\n",
    "    if data_good is True:\n",
    "        data[counter] = row\n",
    "        # Increment counter\n",
    "        counter += 1\n",
    "        \n",
    "# Convert all of the data in the matrix to floats\n",
    "data = data.astype(np.float)\n",
    "# Trim zeros from the end of the data (for points that weren't added)\n",
    "data = data[:counter]"
   ]
  },
  {
   "cell_type": "code",
   "execution_count": 42,
   "metadata": {
    "collapsed": true
   },
   "outputs": [],
   "source": [
    "# Objective - P(HeartDisease|x1, x2, x3, ...)\n",
    "\n",
    "\"\"\" Thresholds:\n",
    "    0. Age - <65\n",
    "    1. Sex - Male/Female (1 = male)\n",
    "    2. Chest Pain - 0/1\n",
    "    3. Resting BP - >140 - HTN\n",
    "    4. Serum Cholesterol - >240\n",
    "    5. Fasting Blood Sugar - <120mg/dl\n",
    "    6. Resting ECG - !=0 - not normal\n",
    "    7. Max HR - < 160 - Tachycardia\n",
    "    8. Induced Angina - 0/1\n",
    "    9. ST Depression - !=0 - ST Depression\n",
    "    10. Slope of ST (peak exersise) - !=1 - Slope\n",
    "    11. CA - Number of major vessels angiogramed != Abnormal\n",
    "    12. Thalassemia - 3 = normal\n",
    "    13. Diagnosis of heart disease - 0/1\n",
    "    \n",
    "\"\"\"\n",
    "data_processed = data.copy()\n",
    "# Process Data\n",
    "for row in data_processed:\n",
    "    if row[0] > 65:\n",
    "        row[0] = 1\n",
    "    else:\n",
    "        row[0] = 0\n",
    "    if row[2] != 0:\n",
    "        row[2] = 1\n",
    "    if row[3] > 140:\n",
    "        row[3] = 1\n",
    "    else:\n",
    "        row[3] = 0\n",
    "    if row[4] > 240:\n",
    "        row[4] = 1\n",
    "    else:\n",
    "        row[4] = 0\n",
    "    if row[6] != 0:\n",
    "        row[6] = 1\n",
    "    if row[7] > 160:\n",
    "        row[7] = 1\n",
    "    else:\n",
    "        row[7] = 0\n",
    "    if row[9] != 0:\n",
    "        row[9] = 1\n",
    "    if row[10] != 1:\n",
    "        row[10] = 1\n",
    "    else:\n",
    "        row[10] = 0\n",
    "    if row[11] != 0:\n",
    "        row[11] = 1\n",
    "    if row[12] != 3:\n",
    "        row[12] = 1\n",
    "    else:\n",
    "        row[12] = 0\n",
    "    if row[13] != 0:\n",
    "        row[13] = 1\n",
    "\n",
    "# Calculate P(HeartDisease)\n",
    "    # This is a probabily using the given sample data\n",
    "num = 0\n",
    "hd = 0\n",
    "p_heartDisease = 0\n",
    "for row in data:\n",
    "    if(row[row.shape[0]-1]) > 0:\n",
    "        hd += 1\n",
    "    num += 1\n",
    "p_heartDisease = hd/num"
   ]
  },
  {
   "cell_type": "code",
   "execution_count": 44,
   "metadata": {},
   "outputs": [],
   "source": [
    "\"\"\" Split Dataset \"\"\"\n",
    "# Create variable to hold heart disease data\n",
    "hd_data = np.zeros((hd, data.shape[1]))\n",
    "# Create variable to hold no-heart disease data\n",
    "nohd_data = np.zeros((num-hd, data.shape[1]))\n",
    "\n",
    "# Create variable for count of each\n",
    "nohd_count = 0\n",
    "hd_count = 0\n",
    "\n",
    "# For loop - iterate over each row\n",
    "for row in data_processed:\n",
    "    # If statement - last item (label) is 0\n",
    "    if row[row.shape[0]-1] == 0:\n",
    "        # Add to no-heart disease set\n",
    "        nohd_data[nohd_count] = row\n",
    "        # Increment no-heart disease counter\n",
    "        nohd_count += 1\n",
    "    else:\n",
    "        # Add to heart disease set\n",
    "        hd_data[hd_count] = row\n",
    "        # Increment heart disease counter\n",
    "        hd_count += 1"
   ]
  },
  {
   "cell_type": "code",
   "execution_count": 46,
   "metadata": {
    "collapsed": true
   },
   "outputs": [],
   "source": [
    "\"\"\" Create method to calculate the probability of heart disease \"\"\"\n",
    "def p_hd(input_vector):\n",
    "    # This vector will keep track of the number of equalities\n",
    "    count_vector = np.zeros(input_vector.shape[0])\n",
    "    # Copy the data and remove labels\n",
    "    hd_data_no_label = hd_data.copy()\n",
    "    hd_data_no_label = hd_data_no_label[:, :13]\n",
    "    for row in hd_data_no_label:\n",
    "        # Increment count vector for every equal entry\n",
    "        count_vector += np.logical_not(np.logical_xor(row, input_vector))\n",
    "    # Divide the count vector by the number of entries to get a probability\n",
    "    count_vector = count_vector/hd_data_no_label.shape[0]\n",
    "    # Return product of vector times probability of heart disease\n",
    "    return np.prod(count_vector) * p_heartDisease"
   ]
  },
  {
   "cell_type": "code",
   "execution_count": 27,
   "metadata": {
    "collapsed": true
   },
   "outputs": [],
   "source": [
    "def p_no_hd(input_vector):\n",
    "    count_vector = np.zeros(input_vector.shape[0])\n",
    "    nohd_data_no_label = nohd_data.copy()\n",
    "    nohd_data_no_label = nohd_data_no_label[:, :13]\n",
    "    for row in nohd_data_no_label:\n",
    "        count_vector += np.logical_not(np.logical_xor(row, input_vector))\n",
    "    count_vector = count_vector/nohd_data_no_label.shape[0]\n",
    "    return np.prod(count_vector) * (1-p_heartDisease)"
   ]
  },
  {
   "cell_type": "code",
   "execution_count": 28,
   "metadata": {},
   "outputs": [
    {
     "name": "stdout",
     "output_type": "stream",
     "text": [
      "0\n",
      "   P Heart Disease:  0.000175200496361 \r\n",
      "P No Heart Disease:  1.90017512529e-06\n"
     ]
    }
   ],
   "source": [
    "# test_data = np.array('1 1 1 1 1 0 1 0 1 1 1 1 0');\n",
    "test_data = np.array([1, 1, 1, 1, 1, 0, 1, 0, 1, 1, 1, 1, 0])\n",
    "test_data_nohd = np.array([0, 1, 1, 0, 1, 0, 0, 1, 0, 1, 1, 0, 0])\n",
    "hd = p_hd(test_data)\n",
    "nohd = p_no_hd(test_data)\n",
    "print(np.argmax([hd, nohd]))\n",
    "print(\"   P Heart Disease: \", hd, \"\\r\\nP No Heart Disease: \", nohd)"
   ]
  },
  {
   "cell_type": "code",
   "execution_count": null,
   "metadata": {
    "collapsed": true
   },
   "outputs": [],
   "source": []
  }
 ],
 "metadata": {
  "kernelspec": {
   "display_name": "Python 3",
   "language": "python",
   "name": "python3"
  },
  "language_info": {
   "codemirror_mode": {
    "name": "ipython",
    "version": 3
   },
   "file_extension": ".py",
   "mimetype": "text/x-python",
   "name": "python",
   "nbconvert_exporter": "python",
   "pygments_lexer": "ipython3",
   "version": "3.5.3"
  }
 },
 "nbformat": 4,
 "nbformat_minor": 2
}
