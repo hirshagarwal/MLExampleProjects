{
 "cells": [
  {
   "cell_type": "code",
   "execution_count": null,
   "metadata": {
    "collapsed": true
   },
   "outputs": [],
   "source": [
    "\"\"\" Setup Imports \"\"\"\n",
    "# numpy for matrix operations\n",
    "# matplotlib for visualization\n",
    "# csv for reading the input data"
   ]
  },
  {
   "cell_type": "code",
   "execution_count": null,
   "metadata": {
    "collapsed": true
   },
   "outputs": [],
   "source": [
    "\"\"\" Import Data \"\"\"\n",
    "# Create a list to hold each row of data\n",
    "# Create a counter for the number of rows\n",
    "\n",
    "# Import CSV Data\n"
   ]
  },
  {
   "cell_type": "code",
   "execution_count": null,
   "metadata": {
    "collapsed": true
   },
   "outputs": [],
   "source": [
    "\"\"\" Clean Data \"\"\"\n",
    "# Create variable for size of each row\n",
    "# Create empty numpy matrix to hold the new data\n",
    "# Create a counter to remember how many rows have been added\n",
    "\n",
    "# For loop - to iterate over each row in dataset\n",
    "    # Boolean to mark if data is bad\n",
    "    \n",
    "    # For loop - iterate over each item in row\n",
    "    \n",
    "        # If statement - Check if item is ?\n",
    "    \n",
    "    # If statement - if the data is fine add it to our empty numpy matrix\n",
    "        # Increment counter\n",
    "\n",
    "# Convert all of the data in the matrix to floats\n",
    "# Trim zeros from the end of the data (for points that weren't added)"
   ]
  },
  {
   "cell_type": "code",
   "execution_count": null,
   "metadata": {},
   "outputs": [],
   "source": [
    "# Objective - P(HeartDisease|x1, x2, x3, ...)\n",
    "\n",
    "\"\"\" Thresholds:\n",
    "    0. Age - <65\n",
    "    1. Sex - Male/Female (1 = male)\n",
    "    2. Chest Pain - 0/1\n",
    "    3. Resting BP - >140 - HTN\n",
    "    4. Serum Cholesterol - >240\n",
    "    5. Fasting Blood Sugar - <120mg/dl\n",
    "    6. Resting ECG - !=0 - not normal\n",
    "    7. Max HR - < 160 - Tachycardia\n",
    "    8. Induced Angina - 0/1\n",
    "    9. ST Depression - !=0 - ST Depression\n",
    "    10. Slope of ST (peak exersise) - !=1 - Slope\n",
    "    11. CA - Number of major vessels angiogramed != Abnormal\n",
    "    12. Thalassemia - 3 = normal\n",
    "    13. Diagnosis of heart disease - 0/1\n",
    "    \n",
    "\"\"\"\n",
    "data_processed = data.copy()\n",
    "# Process Data\n",
    "for row in data_processed:\n",
    "    if row[0] > 65:\n",
    "        row[0] = 1\n",
    "    else:\n",
    "        row[0] = 0\n",
    "    if row[2] != 0:\n",
    "        row[2] = 1\n",
    "    if row[3] > 140:\n",
    "        row[3] = 1\n",
    "    else:\n",
    "        row[3] = 0\n",
    "    if row[4] > 240:\n",
    "        row[4] = 1\n",
    "    else:\n",
    "        row[4] = 0\n",
    "    if row[6] != 0:\n",
    "        row[6] = 1\n",
    "    if row[7] > 160:\n",
    "        row[7] = 1\n",
    "    else:\n",
    "        row[7] = 0\n",
    "    if row[9] != 0:\n",
    "        row[9] = 1\n",
    "    if row[10] != 1:\n",
    "        row[10] = 1\n",
    "    else:\n",
    "        row[10] = 0\n",
    "    if row[11] != 0:\n",
    "        row[11] = 1\n",
    "    if row[12] != 3:\n",
    "        row[12] = 1\n",
    "    else:\n",
    "        row[12] = 0\n",
    "    if row[13] != 0:\n",
    "        row[13] = 1\n",
    "\n",
    "# Calculate P(HeartDisease)\n",
    "    # This is a probabily using the given sample data\n",
    "num = 0\n",
    "hd = 0\n",
    "p_heartDisease = 0\n",
    "for row in data:\n",
    "    if(row[row.shape[0]-1]) > 0:\n",
    "        hd += 1\n",
    "    num += 1\n",
    "p_heartDisease = hd/num"
   ]
  },
  {
   "cell_type": "code",
   "execution_count": null,
   "metadata": {
    "collapsed": true
   },
   "outputs": [],
   "source": [
    "\"\"\" Split Dataset \"\"\"\n",
    "# Create variable to hold heart disease data\n",
    "# Create variable to hold no-heart disease data\n",
    "\n",
    "# Create variable for count of each\n",
    "\n",
    "# For loop - iterate over each row\n",
    "    \n",
    "    # If statement - last item (label) is 0\n",
    "        # Add to no-heart disease set\n",
    "        # Increment no-heart disease counter\n",
    "    # Else -\n",
    "        # Add to heart disease set\n",
    "        # Increment heart disease counter"
   ]
  },
  {
   "cell_type": "code",
   "execution_count": null,
   "metadata": {
    "collapsed": true
   },
   "outputs": [],
   "source": [
    "\"\"\" Create method to calculate the probability of heart disease \"\"\"\n",
    "    \n",
    "    # Create vector to keep track of number of equalities\n",
    "    # Copy the data and remove labels\n",
    "    \n",
    "    # For loop - iterate over each row (in dataset with labels removed)\n",
    "        # Increment the count vector for every equal entry\n",
    "    \n",
    "    # Divide the count vector by the number of entries to get a probability\n",
    "    \n",
    "    # Return product of vector times probability of heart disease"
   ]
  },
  {
   "cell_type": "code",
   "execution_count": null,
   "metadata": {
    "collapsed": true
   },
   "outputs": [],
   "source": [
    "\"\"\" Create method to calculate the probability of no-heart disease \"\"\"\n",
    "    \n",
    "    # Create vector to keep track of number of equalities\n",
    "    # Copy the data and remove labels\n",
    "    \n",
    "    # For loop - iterate over each row (in dataset with labels removed)\n",
    "        # Increment the count vector for every equal entry\n",
    "    \n",
    "    # Divide the count vector by the number of entries to get a probability\n",
    "    \n",
    "    # Return product of vector times probability of no-heart disease"
   ]
  },
  {
   "cell_type": "code",
   "execution_count": null,
   "metadata": {
    "collapsed": true
   },
   "outputs": [],
   "source": [
    "\"\"\" Test Model \"\"\"\n",
    "# Create a dummy input vector\n",
    "# Run through both probabilities and find the higher one"
   ]
  }
 ],
 "metadata": {
  "kernelspec": {
   "display_name": "Python 3",
   "language": "python",
   "name": "python3"
  },
  "language_info": {
   "codemirror_mode": {
    "name": "ipython",
    "version": 3
   },
   "file_extension": ".py",
   "mimetype": "text/x-python",
   "name": "python",
   "nbconvert_exporter": "python",
   "pygments_lexer": "ipython3",
   "version": "3.5.3"
  }
 },
 "nbformat": 4,
 "nbformat_minor": 2
}
