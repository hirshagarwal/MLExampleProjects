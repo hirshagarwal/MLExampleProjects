{
 "cells": [
  {
   "cell_type": "code",
   "execution_count": 1,
   "metadata": {
    "collapsed": true
   },
   "outputs": [],
   "source": [
    "# Setup import\n",
    "import numpy as np"
   ]
  },
  {
   "cell_type": "code",
   "execution_count": null,
   "metadata": {
    "collapsed": true
   },
   "outputs": [],
   "source": [
    "class Model():\n",
    "    \n",
    "    # Model will contain sequence of layers to feed data\n",
    "    \n",
    "    def __init__(self):\n",
    "        pass"
   ]
  },
  {
   "cell_type": "code",
   "execution_count": 15,
   "metadata": {},
   "outputs": [],
   "source": [
    "class Layer():\n",
    "\n",
    "    def __init__(self, num_neurons, num_inputs):\n",
    "        self.num_neurons = num_neurons\n",
    "        self.num_inputs = num_inputs\n",
    "        # Build Psi - Random Weights\n",
    "        self.W = np.random.random_sample((num_inputs+1, num_neurons))\n",
    "        \n",
    "    def feed(X):\n",
    "        # Error checking\n",
    "    \n",
    "    def getWeights(self):\n",
    "        return self.W"
   ]
  },
  {
   "cell_type": "code",
   "execution_count": 17,
   "metadata": {},
   "outputs": [
    {
     "name": "stdout",
     "output_type": "stream",
     "text": [
      "[[ 0.44265971  0.58631752]\n",
      " [ 0.19696222  0.1721579 ]\n",
      " [ 0.69958453  0.66720932]\n",
      " [ 0.13774608  0.29072331]]\n"
     ]
    }
   ],
   "source": [
    "i = np.matrix(('1, 3, 4'))\n",
    "L1 = Layer(2, 3)\n",
    "print(L1.getWeights())\n"
   ]
  },
  {
   "cell_type": "code",
   "execution_count": null,
   "metadata": {
    "collapsed": true
   },
   "outputs": [],
   "source": []
  }
 ],
 "metadata": {
  "kernelspec": {
   "display_name": "Python 3",
   "language": "python",
   "name": "python3"
  },
  "language_info": {
   "codemirror_mode": {
    "name": "ipython",
    "version": 3
   },
   "file_extension": ".py",
   "mimetype": "text/x-python",
   "name": "python",
   "nbconvert_exporter": "python",
   "pygments_lexer": "ipython3",
   "version": "3.5.3"
  }
 },
 "nbformat": 4,
 "nbformat_minor": 2
}
