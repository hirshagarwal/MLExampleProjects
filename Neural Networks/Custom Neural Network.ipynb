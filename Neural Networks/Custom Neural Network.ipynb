{
 "cells": [
  {
   "cell_type": "code",
   "execution_count": 399,
   "metadata": {
    "collapsed": true
   },
   "outputs": [],
   "source": [
    "# Setup import\n",
    "import numpy as np"
   ]
  },
  {
   "cell_type": "code",
   "execution_count": 400,
   "metadata": {},
   "outputs": [],
   "source": [
    "\"\"\" Model Class\n",
    "    Contains a linear sequence of all the layers in the model\n",
    "\"\"\"\n",
    "class Model():\n",
    "    \n",
    "    # Model will contain sequence of layers to feed data \n",
    "    def __init__(self):\n",
    "        self.components = list()\n",
    "    \n",
    "    # Add a layer to the model\n",
    "    def add(self, component):\n",
    "        self.components.append(component)\n",
    "        \n",
    "    # Feed Data and Learn\n",
    "    def train(self, X, Y):\n",
    "        lastOut = X\n",
    "        # Feed Data\n",
    "        for layer in self.components:\n",
    "            lastOut = layer.feed(lastOut)\n",
    "        # Set the prediction\n",
    "        pred = lastOut\n",
    "        \n",
    "        # Verify that output layer is an activation function\n",
    "        if type(self.components[len(self.components)-1]) != Activation:\n",
    "            raise ValueError(\"Output layer must have activation function\")\n",
    "        \n",
    "        # Optimize\n",
    "        components = self.components\n",
    "        # Get error for output layer\n",
    "        error = list()\n",
    "        error.insert(0, (Y - pred) * components[len(components)-1].d_feed(pred))\n",
    "        for i in range(len(components)-3, 0, -1):\n",
    "            component = components[i]\n",
    "            if type(component) == Layer:\n",
    "            # Error for hidden layers\n",
    "                error.insert(0, (component.getWeights() * error[0]) * components[i+1].d_feed(component.getOutput)) \n",
    "        print(\"Error:\", error)\n",
    "        \n",
    "        return lastOut\n",
    "    \n",
    "    def show(self):\n",
    "        model_display = \"\"\n",
    "        for component in self.components:\n",
    "            model_display += 'Type: {}\\n'.format(component.getType())\n",
    "        model_display += \"---------------\"\n",
    "        return model_display\n",
    "\n",
    "    def predict(self, X):\n",
    "        pass"
   ]
  },
  {
   "cell_type": "code",
   "execution_count": 401,
   "metadata": {},
   "outputs": [],
   "source": [
    "class Layer():\n",
    "    \n",
    "    def __init__(self, num_neurons, num_inputs):\n",
    "        self.num_neurons = num_neurons\n",
    "        self.num_inputs = num_inputs\n",
    "        # Build Psi - Random Weights\n",
    "        self.W = np.random.random_sample((num_inputs + 1, num_neurons))\n",
    "        \n",
    "    def feed(self, X):\n",
    "        last_output = X\n",
    "        new_input = np.ones((X.shape[0], self.num_neurons))\n",
    "        X = X * new_input\n",
    "        print(X)\n",
    "        biases = np.ones(X.shape[0])\n",
    "        # Add bias\n",
    "        X = np.insert(X, 0, biases, axis=1)\n",
    "        # Error checking\n",
    "        if X.shape[1] != self.W.shape[0]:\n",
    "            raise ValueError(\"Wrong input shape\")\n",
    "            \n",
    "        # Remember Last Output\n",
    "        self.last_output = X * self.W\n",
    "        print(self.W)\n",
    "        print(\"Last Output: \", self.last_output)\n",
    "        # Multiply\n",
    "        return X * self.W\n",
    "        \n",
    "    def getWeights(self):\n",
    "        return self.W\n",
    "    \n",
    "    def setWeights(self, X):\n",
    "        # Set all of the weights to a new value\n",
    "        self.W = X\n",
    "        \n",
    "    def updateWeights(self, X):\n",
    "        # Adjust Weights by a value\n",
    "        pass\n",
    "    \n",
    "    def getOutput(self):\n",
    "        return self.last_output\n",
    "    \n",
    "    def getType(self):\n",
    "        return \"Dense Layer\""
   ]
  },
  {
   "cell_type": "code",
   "execution_count": 402,
   "metadata": {
    "collapsed": true
   },
   "outputs": [],
   "source": [
    "class Activation():\n",
    "    \n",
    "    # Activation Functions\n",
    "    def __init__(self, activation):\n",
    "        self.activation_function = activation\n",
    "    \n",
    "    def feed(self, X):\n",
    "        if self.activation_function == 'step':\n",
    "            return np.piecewise(X, [X < 0, X >= 0], [0, 1])\n",
    "        if self.activation_function == 'sigmoid':\n",
    "#             print(X)\n",
    "            return 1/(1 + np.exp(-X))\n",
    "        if self.activation_function == 'relu':\n",
    "            np.maximum(X, 0, X)\n",
    "            return X\n",
    "    def d_feed(self, X):\n",
    "        if self.activation_function == 'sigmoid':\n",
    "            return X * (1-X)\n",
    "        if self.activation_function == 'relu':\n",
    "            return np.piecewise(X, [X < 0, X >= 0], [0, 1])\n",
    "        \n",
    "    def getType(self):\n",
    "        return \"Activation Function {fxn}\".format(fxn=self.activation_function)"
   ]
  },
  {
   "cell_type": "code",
   "execution_count": 403,
   "metadata": {
    "collapsed": true
   },
   "outputs": [],
   "source": [
    "class Optimizer():\n",
    "    \n",
    "    # Define Optimizers\n",
    "    def grad(self, X, Y):\n",
    "        # Define error and loss\n",
    "        error = pred-Y\n",
    "        loss = np.sum(error ** 2)\n",
    "        \n",
    "        # Calculate Gradient\n",
    "        gradient = X.T.dot(error) / X.shape[0]\n",
    "        \n",
    "        return gradient"
   ]
  },
  {
   "cell_type": "code",
   "execution_count": 404,
   "metadata": {
    "collapsed": true
   },
   "outputs": [],
   "source": [
    "# Build test data\n"
   ]
  },
  {
   "cell_type": "code",
   "execution_count": 405,
   "metadata": {
    "scrolled": false
   },
   "outputs": [
    {
     "ename": "ValueError",
     "evalue": "shapes (1,2) and (1,3) not aligned: 2 (dim 1) != 1 (dim 0)",
     "output_type": "error",
     "traceback": [
      "\u001b[0;31m---------------------------------------------------------------------------\u001b[0m",
      "\u001b[0;31mValueError\u001b[0m                                Traceback (most recent call last)",
      "\u001b[0;32m<ipython-input-405-b02097dfdf01>\u001b[0m in \u001b[0;36m<module>\u001b[0;34m()\u001b[0m\n\u001b[1;32m      9\u001b[0m \u001b[0mmodel\u001b[0m\u001b[0;34m.\u001b[0m\u001b[0madd\u001b[0m\u001b[0;34m(\u001b[0m\u001b[0mLayer\u001b[0m\u001b[0;34m(\u001b[0m\u001b[0;36m1\u001b[0m\u001b[0;34m,\u001b[0m \u001b[0;36m2\u001b[0m\u001b[0;34m)\u001b[0m\u001b[0;34m)\u001b[0m\u001b[0;34m\u001b[0m\u001b[0m\n\u001b[1;32m     10\u001b[0m \u001b[0mmodel\u001b[0m\u001b[0;34m.\u001b[0m\u001b[0madd\u001b[0m\u001b[0;34m(\u001b[0m\u001b[0mActivation\u001b[0m\u001b[0;34m(\u001b[0m\u001b[0;34m'sigmoid'\u001b[0m\u001b[0;34m)\u001b[0m\u001b[0;34m)\u001b[0m\u001b[0;34m\u001b[0m\u001b[0m\n\u001b[0;32m---> 11\u001b[0;31m \u001b[0mmodel\u001b[0m\u001b[0;34m.\u001b[0m\u001b[0mtrain\u001b[0m\u001b[0;34m(\u001b[0m\u001b[0mi\u001b[0m\u001b[0;34m,\u001b[0m \u001b[0;36m1\u001b[0m\u001b[0;34m)\u001b[0m\u001b[0;34m\u001b[0m\u001b[0m\n\u001b[0m\u001b[1;32m     12\u001b[0m \u001b[0mmodel\u001b[0m\u001b[0;34m.\u001b[0m\u001b[0mshow\u001b[0m\u001b[0;34m(\u001b[0m\u001b[0;34m)\u001b[0m\u001b[0;34m\u001b[0m\u001b[0m\n",
      "\u001b[0;32m<ipython-input-400-49502953190e>\u001b[0m in \u001b[0;36mtrain\u001b[0;34m(self, X, Y)\u001b[0m\n\u001b[1;32m     17\u001b[0m         \u001b[0;31m# Feed Data\u001b[0m\u001b[0;34m\u001b[0m\u001b[0;34m\u001b[0m\u001b[0m\n\u001b[1;32m     18\u001b[0m         \u001b[0;32mfor\u001b[0m \u001b[0mlayer\u001b[0m \u001b[0;32min\u001b[0m \u001b[0mself\u001b[0m\u001b[0;34m.\u001b[0m\u001b[0mcomponents\u001b[0m\u001b[0;34m:\u001b[0m\u001b[0;34m\u001b[0m\u001b[0m\n\u001b[0;32m---> 19\u001b[0;31m             \u001b[0mlastOut\u001b[0m \u001b[0;34m=\u001b[0m \u001b[0mlayer\u001b[0m\u001b[0;34m.\u001b[0m\u001b[0mfeed\u001b[0m\u001b[0;34m(\u001b[0m\u001b[0mlastOut\u001b[0m\u001b[0;34m)\u001b[0m\u001b[0;34m\u001b[0m\u001b[0m\n\u001b[0m\u001b[1;32m     20\u001b[0m         \u001b[0;31m# Set the prediction\u001b[0m\u001b[0;34m\u001b[0m\u001b[0;34m\u001b[0m\u001b[0m\n\u001b[1;32m     21\u001b[0m         \u001b[0mpred\u001b[0m \u001b[0;34m=\u001b[0m \u001b[0mlastOut\u001b[0m\u001b[0;34m\u001b[0m\u001b[0m\n",
      "\u001b[0;32m<ipython-input-401-72e4f85e9767>\u001b[0m in \u001b[0;36mfeed\u001b[0;34m(self, X)\u001b[0m\n\u001b[1;32m     10\u001b[0m         \u001b[0mlast_output\u001b[0m \u001b[0;34m=\u001b[0m \u001b[0mX\u001b[0m\u001b[0;34m\u001b[0m\u001b[0m\n\u001b[1;32m     11\u001b[0m         \u001b[0mnew_input\u001b[0m \u001b[0;34m=\u001b[0m \u001b[0mnp\u001b[0m\u001b[0;34m.\u001b[0m\u001b[0mones\u001b[0m\u001b[0;34m(\u001b[0m\u001b[0;34m(\u001b[0m\u001b[0mX\u001b[0m\u001b[0;34m.\u001b[0m\u001b[0mshape\u001b[0m\u001b[0;34m[\u001b[0m\u001b[0;36m0\u001b[0m\u001b[0;34m]\u001b[0m\u001b[0;34m,\u001b[0m \u001b[0mself\u001b[0m\u001b[0;34m.\u001b[0m\u001b[0mnum_neurons\u001b[0m\u001b[0;34m)\u001b[0m\u001b[0;34m)\u001b[0m\u001b[0;34m\u001b[0m\u001b[0m\n\u001b[0;32m---> 12\u001b[0;31m         \u001b[0mX\u001b[0m \u001b[0;34m=\u001b[0m \u001b[0mX\u001b[0m \u001b[0;34m*\u001b[0m \u001b[0mnew_input\u001b[0m\u001b[0;34m\u001b[0m\u001b[0m\n\u001b[0m\u001b[1;32m     13\u001b[0m         \u001b[0mprint\u001b[0m\u001b[0;34m(\u001b[0m\u001b[0mX\u001b[0m\u001b[0;34m)\u001b[0m\u001b[0;34m\u001b[0m\u001b[0m\n\u001b[1;32m     14\u001b[0m         \u001b[0mbiases\u001b[0m \u001b[0;34m=\u001b[0m \u001b[0mnp\u001b[0m\u001b[0;34m.\u001b[0m\u001b[0mones\u001b[0m\u001b[0;34m(\u001b[0m\u001b[0mX\u001b[0m\u001b[0;34m.\u001b[0m\u001b[0mshape\u001b[0m\u001b[0;34m[\u001b[0m\u001b[0;36m0\u001b[0m\u001b[0;34m]\u001b[0m\u001b[0;34m)\u001b[0m\u001b[0;34m\u001b[0m\u001b[0m\n",
      "\u001b[0;32m~/.local/lib/python3.5/site-packages/numpy/matrixlib/defmatrix.py\u001b[0m in \u001b[0;36m__mul__\u001b[0;34m(self, other)\u001b[0m\n\u001b[1;32m    307\u001b[0m         \u001b[0;32mif\u001b[0m \u001b[0misinstance\u001b[0m\u001b[0;34m(\u001b[0m\u001b[0mother\u001b[0m\u001b[0;34m,\u001b[0m \u001b[0;34m(\u001b[0m\u001b[0mN\u001b[0m\u001b[0;34m.\u001b[0m\u001b[0mndarray\u001b[0m\u001b[0;34m,\u001b[0m \u001b[0mlist\u001b[0m\u001b[0;34m,\u001b[0m \u001b[0mtuple\u001b[0m\u001b[0;34m)\u001b[0m\u001b[0;34m)\u001b[0m \u001b[0;34m:\u001b[0m\u001b[0;34m\u001b[0m\u001b[0m\n\u001b[1;32m    308\u001b[0m             \u001b[0;31m# This promotes 1-D vectors to row vectors\u001b[0m\u001b[0;34m\u001b[0m\u001b[0;34m\u001b[0m\u001b[0m\n\u001b[0;32m--> 309\u001b[0;31m             \u001b[0;32mreturn\u001b[0m \u001b[0mN\u001b[0m\u001b[0;34m.\u001b[0m\u001b[0mdot\u001b[0m\u001b[0;34m(\u001b[0m\u001b[0mself\u001b[0m\u001b[0;34m,\u001b[0m \u001b[0masmatrix\u001b[0m\u001b[0;34m(\u001b[0m\u001b[0mother\u001b[0m\u001b[0;34m)\u001b[0m\u001b[0;34m)\u001b[0m\u001b[0;34m\u001b[0m\u001b[0m\n\u001b[0m\u001b[1;32m    310\u001b[0m         \u001b[0;32mif\u001b[0m \u001b[0misscalar\u001b[0m\u001b[0;34m(\u001b[0m\u001b[0mother\u001b[0m\u001b[0;34m)\u001b[0m \u001b[0;32mor\u001b[0m \u001b[0;32mnot\u001b[0m \u001b[0mhasattr\u001b[0m\u001b[0;34m(\u001b[0m\u001b[0mother\u001b[0m\u001b[0;34m,\u001b[0m \u001b[0;34m'__rmul__'\u001b[0m\u001b[0;34m)\u001b[0m \u001b[0;34m:\u001b[0m\u001b[0;34m\u001b[0m\u001b[0m\n\u001b[1;32m    311\u001b[0m             \u001b[0;32mreturn\u001b[0m \u001b[0mN\u001b[0m\u001b[0;34m.\u001b[0m\u001b[0mdot\u001b[0m\u001b[0;34m(\u001b[0m\u001b[0mself\u001b[0m\u001b[0;34m,\u001b[0m \u001b[0mother\u001b[0m\u001b[0;34m)\u001b[0m\u001b[0;34m\u001b[0m\u001b[0m\n",
      "\u001b[0;31mValueError\u001b[0m: shapes (1,2) and (1,3) not aligned: 2 (dim 1) != 1 (dim 0)"
     ]
    }
   ],
   "source": [
    "i = np.matrix(('1, 3'))\n",
    "model = Model()\n",
    "\n",
    "# Define Model Layers\n",
    "L1 = Layer(3, 2)\n",
    "model.add(L1)\n",
    "activation1 = Activation('sigmoid')\n",
    "model.add(activation1)\n",
    "model.add(Layer(1, 2))\n",
    "model.add(Activation('sigmoid'))\n",
    "model.train(i, 1)\n",
    "model.show()"
   ]
  },
  {
   "cell_type": "code",
   "execution_count": null,
   "metadata": {
    "collapsed": true
   },
   "outputs": [],
   "source": []
  },
  {
   "cell_type": "code",
   "execution_count": null,
   "metadata": {
    "collapsed": true
   },
   "outputs": [],
   "source": []
  }
 ],
 "metadata": {
  "kernelspec": {
   "display_name": "Python 3",
   "language": "python",
   "name": "python3"
  },
  "language_info": {
   "codemirror_mode": {
    "name": "ipython",
    "version": 3
   },
   "file_extension": ".py",
   "mimetype": "text/x-python",
   "name": "python",
   "nbconvert_exporter": "python",
   "pygments_lexer": "ipython3",
   "version": "3.5.3"
  }
 },
 "nbformat": 4,
 "nbformat_minor": 2
}
