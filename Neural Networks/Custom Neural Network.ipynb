{
 "cells": [
  {
   "cell_type": "code",
   "execution_count": 399,
   "metadata": {
    "collapsed": true
   },
   "outputs": [],
   "source": [
    "# Setup import\n",
    "import numpy as np"
   ]
  },
  {
   "cell_type": "code",
   "execution_count": 524,
   "metadata": {},
   "outputs": [],
   "source": [
    "\"\"\" Model Class\n",
    "    Contains a linear sequence of all the layers in the model\n",
    "\"\"\"\n",
    "class Model():\n",
    "    \n",
    "    # Model will contain sequence of layers to feed data \n",
    "    def __init__(self):\n",
    "        self.components = list()\n",
    "    \n",
    "    # Add a layer to the model\n",
    "    def add(self, component):\n",
    "        self.components.append(component)\n",
    "        \n",
    "    # Feed Data and Learn\n",
    "    def train(self, X, Y):\n",
    "        lastOut = X\n",
    "        # Feed Data\n",
    "        for layer in self.components:\n",
    "            lastOut = layer.feed(lastOut)\n",
    "        # Set the prediction\n",
    "        pred = lastOut\n",
    "        \n",
    "        # Verify that output layer is an activation function\n",
    "        if type(self.components[len(self.components)-1]) != Activation:\n",
    "            raise ValueError(\"Output layer must have activation function\")\n",
    "        \n",
    "        # Optimize\n",
    "        components = self.components\n",
    "        # Get error for output layer\n",
    "        error = list()\n",
    "        error.append(np.sum((Y - pred) * components[len(components)-1].d_feed(pred)))\n",
    "        for i in range(len(components)-2, 0, -1):\n",
    "            component = components[i]\n",
    "            if type(component) == Layer:\n",
    "                # Error for hidden layers\n",
    "                error.append(np.sum((component.getWeights() * error[0]) * components[i+1].d_feed(component.getOutput()))) \n",
    "        print(\"Error:\", error)\n",
    "        \n",
    "        return lastOut\n",
    "    \n",
    "    def show(self):\n",
    "        model_display = \"\"\n",
    "        for component in self.components:\n",
    "            model_display += 'Type: {}\\n'.format(component.getType())\n",
    "        model_display += \"---------------\"\n",
    "        return model_display\n",
    "\n",
    "    def predict(self, X):\n",
    "        pass"
   ]
  },
  {
   "cell_type": "code",
   "execution_count": 525,
   "metadata": {},
   "outputs": [],
   "source": [
    "class Layer():\n",
    "    \n",
    "    def __init__(self, num_neurons, num_inputs):\n",
    "        self.num_neurons = num_neurons\n",
    "        self.num_inputs = num_inputs\n",
    "        # Build Psi - Random Weights\n",
    "        self.W = np.random.random_sample((num_inputs + 1, num_neurons))\n",
    "        self.last_output = 0\n",
    "        \n",
    "    def feed(self, X):\n",
    "        biases = np.ones(X.shape[0])\n",
    "        # Add bias\n",
    "        X = np.insert(X, 0, biases, axis=1)\n",
    "        # Error checking\n",
    "        if X.shape[1] != self.W.shape[0]:\n",
    "            raise ValueError(\"Wrong input shape\")\n",
    "            \n",
    "        # Remember Last Output\n",
    "        self.last_output = X * self.W\n",
    "        \n",
    "        # Multiply\n",
    "        return X * self.W\n",
    "        \n",
    "    def getWeights(self):\n",
    "        return self.W\n",
    "    \n",
    "    def setWeights(self, X):\n",
    "        # Set all of the weights to a new value\n",
    "        self.W = X\n",
    "        \n",
    "    def updateWeights(self, X):\n",
    "        # Adjust Weights by a value\n",
    "        pass\n",
    "    \n",
    "    def getOutput(self):\n",
    "        return self.last_output\n",
    "    \n",
    "    def getType(self):\n",
    "        return \"Dense Layer\""
   ]
  },
  {
   "cell_type": "code",
   "execution_count": 526,
   "metadata": {
    "collapsed": true
   },
   "outputs": [],
   "source": [
    "class Activation():\n",
    "    \n",
    "    # Activation Functions\n",
    "    def __init__(self, activation):\n",
    "        self.activation_function = activation\n",
    "    \n",
    "    def feed(self, X):\n",
    "        if self.activation_function == 'step':\n",
    "            return np.piecewise(X, [X < 0, X >= 0], [0, 1])\n",
    "        if self.activation_function == 'sigmoid':\n",
    "            return 1/(1 + np.exp(-X))\n",
    "        if self.activation_function == 'relu':\n",
    "            np.maximum(X, 0, X)\n",
    "            return X\n",
    "    def d_feed(self, X):\n",
    "        if self.activation_function == 'sigmoid':\n",
    "            return X * (1-X)\n",
    "        if self.activation_function == 'relu':\n",
    "            return np.piecewise(X, [X < 0, X >= 0], [0, 1])\n",
    "        \n",
    "    def getType(self):\n",
    "        return \"Activation Function {fxn}\".format(fxn=self.activation_function)"
   ]
  },
  {
   "cell_type": "code",
   "execution_count": 529,
   "metadata": {
    "collapsed": true
   },
   "outputs": [],
   "source": [
    "class Optimizer():\n",
    "    \n",
    "    def __init__(self, lr):\n",
    "        self.lr = lr\n",
    "    \n",
    "    # Define Optimizers\n",
    "    def grad(self, X, Y):\n",
    "        # Define error and loss\n",
    "        error = pred-Y\n",
    "        loss = np.sum(error ** 2)\n",
    "        \n",
    "        # Calculate Gradient\n",
    "        gradient = X.T.dot(error) / X.shape[0]\n",
    "        \n",
    "        return gradient"
   ]
  },
  {
   "cell_type": "code",
   "execution_count": 530,
   "metadata": {
    "scrolled": false
   },
   "outputs": [
    {
     "name": "stdout",
     "output_type": "stream",
     "text": [
      "Error: [0.016693077165582715, -0.048291003210990197]\n"
     ]
    },
    {
     "data": {
      "text/plain": [
       "'Type: Dense Layer\\nType: Activation Function sigmoid\\nType: Dense Layer\\nType: Activation Function sigmoid\\n---------------'"
      ]
     },
     "execution_count": 530,
     "metadata": {},
     "output_type": "execute_result"
    }
   ],
   "source": [
    "i = np.matrix(('1, 3'))\n",
    "model = Model()\n",
    "\n",
    "# Define Model Layers\n",
    "L1 = Layer(3, 2)\n",
    "model.add(L1)\n",
    "activation1 = Activation('sigmoid')\n",
    "model.add(activation1)\n",
    "model.add(Layer(1, 3))\n",
    "model.add(Activation('sigmoid'))\n",
    "model.train(i, 1)\n",
    "model.show()"
   ]
  }
 ],
 "metadata": {
  "kernelspec": {
   "display_name": "Python 3",
   "language": "python",
   "name": "python3"
  },
  "language_info": {
   "codemirror_mode": {
    "name": "ipython",
    "version": 3
   },
   "file_extension": ".py",
   "mimetype": "text/x-python",
   "name": "python",
   "nbconvert_exporter": "python",
   "pygments_lexer": "ipython3",
   "version": "3.5.3"
  }
 },
 "nbformat": 4,
 "nbformat_minor": 2
}
