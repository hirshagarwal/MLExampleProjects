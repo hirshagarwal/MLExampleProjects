{
 "cells": [
  {
   "cell_type": "code",
   "execution_count": 1,
   "metadata": {
    "collapsed": true
   },
   "outputs": [],
   "source": [
    "# Setup import\n",
    "import numpy as np"
   ]
  },
  {
   "cell_type": "code",
   "execution_count": 2,
   "metadata": {
    "collapsed": true
   },
   "outputs": [],
   "source": [
    "class Model():\n",
    "    \n",
    "    # Model will contain sequence of layers to feed data\n",
    "    \n",
    "    def __init__(self):\n",
    "        pass\n",
    "    \n",
    "    def feed_forward():\n",
    "        "
   ]
  },
  {
   "cell_type": "code",
   "execution_count": 79,
   "metadata": {},
   "outputs": [],
   "source": [
    "class Layer():\n",
    "\n",
    "    def __init__(self, num_neurons, num_inputs):\n",
    "        self.num_neurons = num_neurons\n",
    "        self.num_inputs = num_inputs\n",
    "        # Build Psi - Random Weights\n",
    "        self.W = np.random.random_sample((num_inputs + 1, num_neurons))\n",
    "        \n",
    "    def feed(self, X):\n",
    "        biases = np.ones(X.shape[0])\n",
    "        # Add bias\n",
    "        X = np.insert(X, 0, biases, axis=1)\n",
    "        print(X)\n",
    "        # Error checking\n",
    "        if X.shape[1] != self.W.shape[0]:\n",
    "            raise ValueError(\"Wrong input shape\")\n",
    "        \n",
    "        # Multiply\n",
    "        return X * self.W\n",
    "        \n",
    "    def getWeights(self):\n",
    "        return self.W"
   ]
  },
  {
   "cell_type": "code",
   "execution_count": 105,
   "metadata": {
    "collapsed": true
   },
   "outputs": [],
   "source": [
    "class Activation():\n",
    "    \n",
    "    # Activation Functions\n",
    "    def __init__(self):\n",
    "        pass\n",
    "    \n",
    "    def step(self, X):\n",
    "        return np.piecewise(X, [X < 0, X >= 0], [0, 1])\n",
    "        \n",
    "    "
   ]
  },
  {
   "cell_type": "code",
   "execution_count": 106,
   "metadata": {
    "collapsed": true
   },
   "outputs": [],
   "source": [
    "# Build test data\n"
   ]
  },
  {
   "cell_type": "code",
   "execution_count": 108,
   "metadata": {
    "scrolled": false
   },
   "outputs": [
    {
     "name": "stdout",
     "output_type": "stream",
     "text": [
      "[[ 0.51086863]\n",
      " [ 0.02067538]\n",
      " [ 0.51698404]]\n",
      "[[1 1 3]]\n",
      "0\n"
     ]
    }
   ],
   "source": [
    "i = np.matrix(('1, 3'))\n",
    "L1 = Layer(1, 2)\n",
    "print(L1.getWeights())\n",
    "layer1Output = L1.feed(i)\n",
    "activation = Activation()\n",
    "activated = activation.step(-10)\n",
    "print(activated)"
   ]
  },
  {
   "cell_type": "code",
   "execution_count": null,
   "metadata": {
    "collapsed": true
   },
   "outputs": [],
   "source": []
  }
 ],
 "metadata": {
  "kernelspec": {
   "display_name": "Python 3",
   "language": "python",
   "name": "python3"
  },
  "language_info": {
   "codemirror_mode": {
    "name": "ipython",
    "version": 3
   },
   "file_extension": ".py",
   "mimetype": "text/x-python",
   "name": "python",
   "nbconvert_exporter": "python",
   "pygments_lexer": "ipython3",
   "version": "3.5.3"
  }
 },
 "nbformat": 4,
 "nbformat_minor": 2
}
