{
 "cells": [
  {
   "cell_type": "code",
   "execution_count": null,
   "metadata": {},
   "outputs": [],
   "source": [
    "\"\"\" Setup Imports \"\"\"\n",
    "# Import numpy for matrix math\n",
    "# Import matplotlib for visualization\n",
    "# Import csv to read in data"
   ]
  },
  {
   "cell_type": "code",
   "execution_count": null,
   "metadata": {
    "collapsed": true
   },
   "outputs": [],
   "source": [
    "\"\"\" Import Data \"\"\"\n",
    "# Create a list to hold all of the data\n",
    "\n",
    "# Read the csv file into list\n",
    "\n",
    "# Split Data into Input and Expected Output\n",
    "# Make variables to hold input and expected output values\n",
    "\n",
    "# For loop - iterate over each row in data\n",
    "    # Set the train value to the first two values\n",
    "    \n",
    "    # Set the y value of the current row to a temp variable\n",
    "    # Convert the y value into 1 or 0 and store in list"
   ]
  },
  {
   "cell_type": "code",
   "execution_count": null,
   "metadata": {
    "collapsed": true
   },
   "outputs": [],
   "source": [
    "\"\"\" Gaussian Model \"\"\"\n",
    "# This is the method that will compute the gaussian probability given a mean, covariance matrix and target value\n",
    "def gaussianMV(mu, covar, x):\n",
    "    # Take dimension of covariance\n",
    "    d = covar.shape[0]\n",
    "    # Put mu and x in column vectors \n",
    "    mu = mu.T\n",
    "    x = x.T\n",
    "    \n",
    "    # Evaluate Gaussian\n",
    "    p = 1/np.sqrt((2*np.pi)**d*np.linalg.det(covar)) * np.exp(-0.5*(x-mu).transpose()*np.linalg.inv(covar)*(x-mu))\n",
    "    return p"
   ]
  },
  {
   "cell_type": "code",
   "execution_count": null,
   "metadata": {
    "collapsed": true
   },
   "outputs": [],
   "source": [
    "\"\"\" Sort Data \"\"\"\n",
    "# We will sort the data into our two classes\n",
    "# Create a matrix for each class\n",
    "# Create a counter for each class\n",
    "\n",
    "# For loop - iterate over all of the training data\n",
    "    # If statement - if in class 1\n",
    "        # Add row to matrix for class\n",
    "        # Increment counter\n",
    "    # Else statement\n",
    "        # Add row to matrix for class\n",
    "        # Increment counter\n",
    "\n",
    "# Store the mean values for each class\n",
    "\n",
    "# Calculate covariance"
   ]
  },
  {
   "cell_type": "code",
   "execution_count": null,
   "metadata": {
    "collapsed": true
   },
   "outputs": [],
   "source": [
    "\"\"\" Classify \"\"\"\n",
    "# Build an example object\n",
    "# Feed through the classifier using the mean and covariance for each class"
   ]
  }
 ],
 "metadata": {
  "kernelspec": {
   "display_name": "Python 3",
   "language": "python",
   "name": "python3"
  },
  "language_info": {
   "codemirror_mode": {
    "name": "ipython",
    "version": 3
   },
   "file_extension": ".py",
   "mimetype": "text/x-python",
   "name": "python",
   "nbconvert_exporter": "python",
   "pygments_lexer": "ipython3",
   "version": "3.5.3"
  }
 },
 "nbformat": 4,
 "nbformat_minor": 2
}
