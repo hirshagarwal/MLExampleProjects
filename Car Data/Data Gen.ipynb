{
 "cells": [
  {
   "cell_type": "code",
   "execution_count": 2,
   "metadata": {
    "collapsed": true
   },
   "outputs": [],
   "source": [
    "# Import basic packages for numerical computation\n",
    "# Numpy for matrix operations\n",
    "import numpy as np\n",
    "# Matplotlib for visualizing data\n",
    "from matplotlib import pyplot as plt\n",
    "# Package to save CSV data\n",
    "import csv"
   ]
  },
  {
   "cell_type": "code",
   "execution_count": 6,
   "metadata": {},
   "outputs": [
    {
     "data": {
      "image/png": "[encoded data removed]",
      "text/plain": [
       "<matplotlib.figure.Figure at 0x7f1d17fbd550>"
      ]
     },
     "metadata": {},
     "output_type": "display_data"
    }
   ],
   "source": [
    "# Set General Parameters\n",
    "\n",
    "# Number of cars\n",
    "num_cars = 100\n",
    "# Mean Price\n",
    "price_mean_normal = 30000\n",
    "price_mean_race = 70000\n",
    "# Standard Deviation\n",
    "price_scale_normal = 5000\n",
    "price_scale_race = 20000\n",
    "# Mean Speed\n",
    "speed_mean_normal = 130\n",
    "speed_mean_race = 170\n",
    "# Scale Speed\n",
    "speed_scale_normal = 15\n",
    "speed_scale_race = 10\n",
    "\n",
    "# Define Data Container\n",
    "    # Price - Speed\n",
    "cars_normal = np.zeros((num_cars, 2))\n",
    "cars_race = np.zeros((num_cars, 2))\n",
    "\n",
    "# Generate Data\n",
    "for i in range(num_cars):\n",
    "    cars_normal[i][0] = np.random.normal(price_mean_normal, price_scale_normal)\n",
    "    cars_normal[i][1] = np.random.normal(speed_mean_normal, speed_scale_normal)\n",
    "    cars_race[i][0] = np.random.normal(price_mean_race, price_scale_race)\n",
    "    cars_race[i][1] = np.random.normal(speed_mean_race, speed_scale_race)\n",
    "    \n",
    "    \n",
    "# Label Data\n",
    "x_class = np.linspace(40000, 100000, 100)\n",
    "y_class = x_class/500\n",
    "    \n",
    "# Show Data\n",
    "# plt.plot(x_class, y_class)\n",
    "plt.scatter(cars_normal[:, 0], cars_normal[:, 1], c='blue')\n",
    "plt.scatter(cars_race[:, 0], cars_race[:, 1], c='red')\n",
    "plt.show()\n",
    "\n",
    "# Save Data\n",
    "with open('cars.csv', 'w') as csvfile:\n",
    "    writer = csv.writer(csvfile, delimiter=',', quotechar='|', quoting=csv.QUOTE_MINIMAL)\n",
    "    for car in cars_normal:\n",
    "        d = [str(car[0]), str(car[1]), \"normal\"]\n",
    "        writer.writerow(d)\n",
    "    for car in cars_race:\n",
    "        d = [str(car[0]), str(car[1]), \"race\"]\n",
    "        writer.writerow(d)"
   ]
  }
 ],
 "metadata": {
  "kernelspec": {
   "display_name": "Python 3",
   "language": "python",
   "name": "python3"
  },
  "language_info": {
   "codemirror_mode": {
    "name": "ipython",
    "version": 3
   },
   "file_extension": ".py",
   "mimetype": "text/x-python",
   "name": "python",
   "nbconvert_exporter": "python",
   "pygments_lexer": "ipython3",
   "version": "3.5.3"
  }
 },
 "nbformat": 4,
 "nbformat_minor": 2
}
