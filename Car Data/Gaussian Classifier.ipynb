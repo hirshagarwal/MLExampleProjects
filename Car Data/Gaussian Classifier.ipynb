{
 "cells": [
  {
   "cell_type": "code",
   "execution_count": 1,
   "metadata": {
    "collapsed": true
   },
   "outputs": [],
   "source": [
    "\"\"\" Setup Imports \"\"\"\n",
    "import numpy as np\n",
    "from matplotlib import pyplot as plt\n",
    "import csv"
   ]
  },
  {
   "cell_type": "code",
   "execution_count": 2,
   "metadata": {
    "collapsed": true
   },
   "outputs": [],
   "source": [
    "\"\"\" Import Data \"\"\"\n",
    "import_data = list()\n",
    "with open('cars.csv', 'r') as csvfile:\n",
    "    reader = csv.reader(csvfile, delimiter=',', quotechar='|')\n",
    "    for row in reader:\n",
    "        import_data.append(row)\n",
    "        \n",
    "# Setup Data Training Data\n",
    "train_x = np.zeros((len(import_data), 2))\n",
    "train_y = np.zeros(len(import_data))\n",
    "for i in range(len(import_data)):\n",
    "    train_x[i] = import_data[i][:2]\n",
    "    current_y = import_data[i][2]\n",
    "    if current_y == 'normal':\n",
    "        train_y[i] = 0\n",
    "    else:\n",
    "        train_y[i] = 1"
   ]
  },
  {
   "cell_type": "code",
   "execution_count": 3,
   "metadata": {
    "collapsed": true
   },
   "outputs": [],
   "source": [
    "def gaussianMV(mu, covar, x):\n",
    "    # Pass covariance rather than SD\n",
    "    \n",
    "    # Take dimension of covariance\n",
    "    d = covar.shape[0]\n",
    "    # Put mu and x in column vectors \n",
    "    mu = mu.T\n",
    "    x = x.T\n",
    "    \n",
    "    # Evaluate Gaussian\n",
    "    p = 1/np.sqrt((2*np.pi)**d*np.linalg.det(covar)) * np.exp(-0.5*(x-mu).transpose()*np.linalg.inv(covar)*(x-mu))\n",
    "    return p"
   ]
  },
  {
   "cell_type": "code",
   "execution_count": 5,
   "metadata": {},
   "outputs": [
    {
     "name": "stdout",
     "output_type": "stream",
     "text": [
      "[[ 0.00291502]]\n"
     ]
    }
   ],
   "source": [
    "mu = np.matrix('0 0')\n",
    "sigma = np.matrix('1 0; 0 1')\n",
    "x = np.matrix('2 2')\n",
    "p1 = gaussianMV(mu, sigma, x)\n",
    "print(p1)"
   ]
  },
  {
   "cell_type": "code",
   "execution_count": 6,
   "metadata": {
    "collapsed": true
   },
   "outputs": [],
   "source": [
    "# Sort Data\n",
    "data_normal = np.zeros((100, 2))\n",
    "data_race = np.zeros((100, 2))\n",
    "race_count = 0\n",
    "normal_count = 0\n",
    "for i in range(train_x.shape[0]):\n",
    "    if train_y[i] == 0:\n",
    "        data_normal[normal_count] = train_x[i]\n",
    "        normal_count += 1\n",
    "    else:\n",
    "        data_race[race_count] = train_x[i]\n",
    "        race_count += 1\n",
    "        \n",
    "# Find mean for the data\n",
    "mu_normal = np.zeros(2)\n",
    "mu_race = np.zeros(2)\n",
    "mu_normal = np.asmatrix(np.sum(data_normal, 0)/normal_count)\n",
    "mu_race = np.asmatrix(np.sum(data_race, 0)/race_count)\n",
    "\n",
    "# Calculate Covariance\n",
    "cov_normal = np.cov(data_normal.T)\n",
    "cov_race = np.cov(data_race.T)"
   ]
  },
  {
   "cell_type": "code",
   "execution_count": 9,
   "metadata": {},
   "outputs": [
    {
     "name": "stdout",
     "output_type": "stream",
     "text": [
      "mu_race:  [[ 68411.19936727    170.55078212]] mu_normal:  [[ 30043.67916675    131.54851049]]\n",
      "P Normal: [[  2.51653815e-08]]\n",
      "P Race:  [[  3.59779992e-08]]\n",
      "[[1]]\n"
     ]
    }
   ],
   "source": [
    "# Test classification\n",
    "test_x = np.matrix('21000 165')\n",
    "print(\"mu_race: \", mu_race, \"mu_normal: \", mu_normal)\n",
    "p_normal = gaussianMV(mu_normal, cov_normal, test_x)\n",
    "p_race = gaussianMV(mu_race, cov_race, test_x)\n",
    "print(\"P Normal:\", p_normal)\n",
    "print(\"P Race: \", p_race)\n",
    "class_car = np.argmax([p_normal, p_race], axis=0)\n",
    "print(class_car)"
   ]
  }
 ],
 "metadata": {
  "kernelspec": {
   "display_name": "Python 3",
   "language": "python",
   "name": "python3"
  },
  "language_info": {
   "codemirror_mode": {
    "name": "ipython",
    "version": 3
   },
   "file_extension": ".py",
   "mimetype": "text/x-python",
   "name": "python",
   "nbconvert_exporter": "python",
   "pygments_lexer": "ipython3",
   "version": "3.5.3"
  }
 },
 "nbformat": 4,
 "nbformat_minor": 2
}
