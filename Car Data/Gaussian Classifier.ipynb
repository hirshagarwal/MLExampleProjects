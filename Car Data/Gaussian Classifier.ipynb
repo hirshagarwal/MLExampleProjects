{
 "cells": [
  {
   "cell_type": "code",
   "execution_count": 1,
   "metadata": {
    "collapsed": true
   },
   "outputs": [],
   "source": [
    "# Setup Imports\n",
    "import numpy as np\n",
    "from matplotlib import pyplot as plt\n",
    "import csv"
   ]
  },
  {
   "cell_type": "code",
   "execution_count": 2,
   "metadata": {},
   "outputs": [],
   "source": [
    "# Import Data\n",
    "import_data = list()\n",
    "with open('cars.csv', 'r') as csvfile:\n",
    "    reader = csv.reader(csvfile, delimiter=',', quotechar='|')\n",
    "    for row in reader:\n",
    "        import_data.append(row)\n",
    "        \n",
    "# Setup Data Training Data\n",
    "train_x = np.zeros((len(import_data), 2))\n",
    "train_y = np.zeros(len(import_data))\n",
    "for i in range(len(import_data)):\n",
    "    train_x[i] = import_data[i][:2]\n",
    "    current_y = import_data[i][2]\n",
    "    if current_y == 'normal':\n",
    "        train_y[i] = 0\n",
    "    else:\n",
    "        train_y[i] = 1"
   ]
  },
  {
   "cell_type": "code",
   "execution_count": 30,
   "metadata": {
    "collapsed": true
   },
   "outputs": [],
   "source": [
    "def gaussianMV(mu, covar, x):\n",
    "    # Pass covariance rather than SD\n",
    "    \n",
    "    # Take dimension of covariance\n",
    "    d = covar.shape[0]\n",
    "    # Put mu and x in column vectors \n",
    "    mu = mu.reshape(d, 1)\n",
    "    x = x.reshape(d, 1)\n",
    "    \n",
    "    # Evaluate Gaussian\n",
    "    p = 1/np.sqrt((2*np.pi)**d*np.linalg.det(covar)) * np.exp(-0.5*(x-mu).transpose()*np.linalg.inv(covar)*(x-mu))\n",
    "    return p\n",
    "    pass"
   ]
  },
  {
   "cell_type": "code",
   "execution_count": 31,
   "metadata": {},
   "outputs": [
    {
     "name": "stdout",
     "output_type": "stream",
     "text": [
      "[[ 0.00291502]]\n"
     ]
    }
   ],
   "source": [
    "mu = np.matrix('0 0')\n",
    "sigma = np.matrix('1 0; 0 1')\n",
    "x = np.matrix('2 2')\n",
    "p1 = gaussianMV(mu, sigma, x)\n",
    "print(p1)"
   ]
  },
  {
   "cell_type": "code",
   "execution_count": null,
   "metadata": {
    "collapsed": true
   },
   "outputs": [],
   "source": [
    "# Compute Mean\n"
   ]
  }
 ],
 "metadata": {
  "kernelspec": {
   "display_name": "Python 3",
   "language": "python",
   "name": "python3"
  },
  "language_info": {
   "codemirror_mode": {
    "name": "ipython",
    "version": 3
   },
   "file_extension": ".py",
   "mimetype": "text/x-python",
   "name": "python",
   "nbconvert_exporter": "python",
   "pygments_lexer": "ipython3",
   "version": "3.5.3"
  }
 },
 "nbformat": 4,
 "nbformat_minor": 2
}
